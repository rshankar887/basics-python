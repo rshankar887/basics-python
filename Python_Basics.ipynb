{
  "nbformat": 4,
  "nbformat_minor": 0,
  "metadata": {
    "colab": {
      "provenance": []
    },
    "kernelspec": {
      "name": "python3",
      "display_name": "Python 3"
    },
    "language_info": {
      "name": "python"
    }
  },
  "cells": [
    {
      "cell_type": "markdown",
      "source": [
        "**Python Basics Questions**\n"
      ],
      "metadata": {
        "id": "9SjFrqs3Mqz5"
      }
    },
    {
      "cell_type": "markdown",
      "source": [
        "1. What is Pyhton, and Why is it popular?\n",
        "    - Python is a high-level, general-purpose programming language known for its readability and versatility. It is used in web development,app development, data analytics, data science, machine learning etc.\n",
        "    - It is popular because of following reasons:\n",
        "     - Easy to learn\n",
        "     - large communities and extensive libraries\n",
        "     -easy to use\n",
        "      - can be used in any model or platform.\n",
        "\n",
        "\n"
      ],
      "metadata": {
        "id": "fPVIZqKdM49j"
      }
    },
    {
      "cell_type": "markdown",
      "source": [
        "2. What is an interpreter in Python?\n",
        "  - In Python, an interpreter reads code, executes line by line,translates to bytecode, make language dynamic and flexible, execute line by line, interprets the result immediately.\n",
        "    "
      ],
      "metadata": {
        "id": "q2K3QoZNOvLq"
      }
    },
    {
      "cell_type": "markdown",
      "source": [
        "3. What are pre-defined keywords in Python?\n",
        "  - In Python, pre-defined keywords are reserved words that have special meanings and purposes within the language. These keywords cannot be used as variable names, function names, or any other identifiers. They are fundamental building blocks of the Python syntax and are essential for writing correct Python code\n",
        "  - Examples:\n",
        "          -if, else, elif (for conditional statements)\n",
        "          -for, while (for loops)\n",
        "          -def (for defining functions)\n",
        "          -class (for defining classes)\n",
        "          -return (for returning values from functions)\n",
        "          -True, False (boolean values)\n",
        "          -and, or, not (logical operators)\n",
        "          -import, from (for importing modules)"
      ],
      "metadata": {
        "id": "JUdwN1ECP0s6"
      }
    },
    {
      "cell_type": "markdown",
      "source": [
        "4. Can keywords be used as Variable names?\n",
        "  - No, keywords cannot be used as variable names in Python.  Keywords are reserved words with specific meanings within the language, and using them as variable names will cause a syntax error. The Python interpreter will be unable to understand your code because it will be expecting the keyword to be used in its intended grammatical context, not as a variable\n",
        "  "
      ],
      "metadata": {
        "id": "Ifg0S0dUQwzB"
      }
    },
    {
      "cell_type": "code",
      "execution_count": null,
      "metadata": {
        "id": "rDhL44j4MnUX"
      },
      "outputs": [],
      "source": [
        ">>> for = 2  # Trying to use 'for' as a variable name\n",
        "  File \"<stdin>\", l 1\n",
        "    for = 2\n",
        "    ^^^\n",
        "SyntaxError: invalid syntax"
      ]
    },
    {
      "cell_type": "markdown",
      "source": [
        "5. What is mutability in Python?\n",
        "  - In Python, mutability refers to whether the state of an object can be changed after it's created.\n",
        "    - Examples:\n",
        "          Lists (list),\n",
        "          Dictionaries (dict),\n",
        "          Sets (set)"
      ],
      "metadata": {
        "id": "pYudyZLjRkHj"
      }
    },
    {
      "cell_type": "markdown",
      "source": [
        "6. Why are lists mutable,but tuples are immutable?\n",
        "    - **LISTS**\n",
        "  - Lists are designed to be dynamic and flexible—you can add, remove, or modify elements as needed.\n",
        "  -Lists are implemented as dynamic arrays in Python, meaning their underlying storage allows resizing and modification.\n",
        "  -Python stores a reference to each list element, so modifying an element just updates the reference without recreating the whole list.\n",
        "  - Lists store references to elements in a resizable array.\n",
        "\n",
        "    - **TUPLES**\n",
        "      - Tuples are designed for fixed collections of values where immutability provides:\n",
        "      -Performance benefits: Since tuples cannot change, they can be optimized better by Python’s memory management.\n",
        "      -Safety and reliability: Ensures values remain constant throughout execution, which is useful for dictionary keys or function return values.\n",
        "      -Unlike lists, tuples do not have methods like .append() or .remove(), preventing modifications.\n",
        "      - Tuples store elements in a fixed array. If you try to modify a tuple, it would require creating a whole new tuple, which Python prevents.\n",
        "  "
      ],
      "metadata": {
        "id": "ZotijxkTSbq_"
      }
    },
    {
      "cell_type": "code",
      "source": [
        "#Example of Lists:\n",
        "my_list = [1, 2, 3]\n",
        "my_list[0] = 10  # Allowed, modifies the list\n",
        "print(my_list)  # Output: [10, 2, 3]\n",
        "\n",
        "#Example of Tuples:\n",
        "my_tuple = (1, 2, 3)\n",
        "my_tuple[0] = 10  # ❌ TypeError: 'tuple' object does not support item assignment\n"
      ],
      "metadata": {
        "id": "940mFTWzm4kS"
      },
      "execution_count": null,
      "outputs": []
    },
    {
      "cell_type": "markdown",
      "source": [
        "7. What is the difference between \"==\" and \"is\" operators in Python?\n",
        "    - **== (Equality Operator):**\n",
        "      - Checks if two values are equal.\n",
        "      - Compares the contents of two objects, regardless of whether they are stored in the same memory location\n",
        "    \n",
        "    - **is (Identity Operator):**\n",
        "      - Checks if two variables reference the same memory address (i.e., if they are actually the same object).\n",
        "      - Does not compare values but rather object identity."
      ],
      "metadata": {
        "id": "WQs40zHYofd4"
      }
    },
    {
      "cell_type": "code",
      "source": [
        "# \"==\" operator\n",
        "a = [1, 2, 3]\n",
        "b = [1, 2, 3]\n",
        "\n",
        "print(a == b)  # ✅ True (because the contents of a and b are the same)\n",
        "# Here, a and b contain the same values, so a == b returns True.\n",
        "\n",
        "\n",
        "# \"is\" operator\n",
        "a = [1, 2, 3]\n",
        "b = [1, 2, 3]\n",
        "\n",
        "print(a is b)  # ❌ False (because a and b are different objects in memory)\n",
        "# Here, a == b is True, a is b is False because they are different objects in memory."
      ],
      "metadata": {
        "id": "jYKNMCeDpim4"
      },
      "execution_count": null,
      "outputs": []
    },
    {
      "cell_type": "markdown",
      "source": [
        "8. What are logical operators in Python?\n",
        "    - Logical operators in Python are used to perform boolean logic operations.\n",
        "    - They evaluate expressions and return True or False based on the conditions\n",
        "\n",
        "     **and (Logical AND):**\n",
        "      - Returns True only if both conditions are True.\n",
        "\n",
        "     **or (Logical OR)**\n",
        "      - Returns True if at least one condition is True.\n",
        "\n",
        "     **not (Logical NOT)**\n",
        "      - Reverses the boolean result.\n",
        "      "
      ],
      "metadata": {
        "id": "9u6htUnCqAFe"
      }
    },
    {
      "cell_type": "code",
      "source": [
        "# and(logical AND operator)\n",
        "x = 5\n",
        "y = 10\n",
        "\n",
        "print(x > 3 and y < 20)  # ✅ True (both conditions are True)\n",
        "print(x > 6 and y < 20)  # ❌ False (first condition is False)\n",
        "\n",
        "# or(logical OR operator)\n",
        "x = 5\n",
        "y = 10\n",
        "\n",
        "print(x > 6 or y < 20)  # ✅ True (second condition is True)\n",
        "print(x > 6 or y > 20)  # ❌ False (both conditions are False)\n",
        "\n",
        "\n",
        "# not(logical NOT operator)\n",
        "x = 5\n",
        "\n",
        "print(not (x > 3))  # ❌ False (since x > 3 is True, `not` makes it False)\n",
        "print(not (x > 10)) # ✅ True (since x > 10 is False, `not` makes it True)\n",
        "\n"
      ],
      "metadata": {
        "id": "-bLLNzrGrJkS"
      },
      "execution_count": null,
      "outputs": []
    },
    {
      "cell_type": "markdown",
      "source": [
        "9. What is type casting in Python?\n",
        "    - Type casting (or type conversion) is the process of converting one data type into another.\n"
      ],
      "metadata": {
        "id": "jIPb9Qr1rlOj"
      }
    },
    {
      "cell_type": "code",
      "source": [
        "#  String to Integer conversion\n",
        "num_str = \"100\"\n",
        "num_int = int(num_str)  # Converts string to integer\n",
        "\n",
        "print(num_int)        # Output: 100\n",
        "print(type(num_int))  # Output: <class 'int'>\n",
        "\n",
        "# Float to Integer conversion\n",
        "num_float = 3.7\n",
        "num_int = int(num_float)  # Removes decimal part (no rounding)\n",
        "\n",
        "print(num_int)        # Output: 3\n",
        "print(type(num_int))  # Output: <class 'int'>\n",
        "\n",
        "# String to integer conversion\n",
        "num = 42\n",
        "num_str = str(num)  # Converts integer to string\n",
        "\n",
        "print(num_str)       # Output: \"42\"\n",
        "print(type(num_str)) # Output: <class 'str'>\n",
        "\n",
        "\n",
        "# list to tuples and vice-versa conversion\n",
        "my_list = [1, 2, 3]\n",
        "my_tuple = tuple(my_list)  # Convert list to tuple\n",
        "\n",
        "print(my_tuple)       # Output: (1, 2, 3)\n",
        "print(type(my_tuple)) # Output: <class 'tuple'>\n",
        "\n",
        "\n",
        "#String to lists conversion\n",
        "text = \"hello\"\n",
        "text_list = list(text)  # Converts string into a list of characters\n",
        "\n",
        "print(text_list)       # Output: ['h', 'e', 'l', 'l', 'o']\n",
        "print(type(text_list)) # Output: <class 'list'>\n",
        "\n",
        "\n",
        "\n"
      ],
      "metadata": {
        "id": "0yNaqKC0tFSf"
      },
      "execution_count": null,
      "outputs": []
    },
    {
      "cell_type": "markdown",
      "source": [
        "10. What is the difference between implicit and explicit type casting?\n",
        "    - Python provides two types of type conversion:\n",
        "      - Implicit Type Casting (Automatic conversion by Python)\n",
        "      - Explicit Type Casting (Manually converting using built-in functions)\n",
        "\n",
        "     **Implicit Type Casting (Automatic):**\n",
        "      - Python automatically converts smaller data types into larger ones when needed, without losing data.\n",
        "\n",
        "     **Explicit Type Casting (Manual)**\n",
        "      - We manually convert data types using built-in functions:\n",
        "        - int(x) ->\tInteger (float, string → int)\n",
        "        - float(x) ->\tFloating-point number (int, string → float)\n",
        "        - str(x)  ->\tString (int, float → string)\n",
        "        - list(x) ->\tList (from tuple, set, string, etc.)\n",
        "        - tuple(x) ->\tTuple (from list, set, etc.)\n",
        "        - set(x) ->\tSet (from list, tuple, etc.)"
      ],
      "metadata": {
        "id": "t-T7-WVyttj6"
      }
    },
    {
      "cell_type": "code",
      "source": [
        "# Implicit type casting\n",
        "x = 10    # int\n",
        "y = 5.5   # float\n",
        "\n",
        "result = x + y  # Python automatically converts 'x' (int) to float\n",
        "print(result)       # Output: 15.5\n",
        "print(type(result)) # Output: <class 'float'>\n",
        "\n",
        "# Explicit type casting\n",
        "num_str = \"100\"\n",
        "num_int = int(num_str)  # Manually converting string to int\n",
        "\n",
        "print(num_int)        # Output: 100\n",
        "print(type(num_int))  # Output: <class 'int'>\n",
        "\n"
      ],
      "metadata": {
        "id": "VhN99xvRuQX0"
      },
      "execution_count": null,
      "outputs": []
    },
    {
      "cell_type": "markdown",
      "source": [
        "11. What is the purpose of conditional statement in Python?\n",
        "      - Conditional statements in Python allow the program to make decisions and execute different blocks of code based on certain conditions.\n",
        "      - It is also used:\n",
        "        - to execute different code blocks based on conditions.\n",
        "        - to implement decision-making logic (e.g., checking user input, permissions, etc.).\n",
        "        - to improve code efficiency by avoiding unnecessary computations.\n",
        "      - Exaple:\n",
        "          - if Statement\n",
        "          - if-else Statement\n",
        "          -  if-elif-else Statement etc."
      ],
      "metadata": {
        "id": "OYcZLEQMulb6"
      }
    },
    {
      "cell_type": "markdown",
      "source": [
        "12. How does the elif statement work?\n",
        "    - The elif statement (short for \"else if\") is used when you need to check multiple conditions in an if statement.\n",
        "    - It allows Python to test multiple expressions sequentially and execute the first one that evaluates to True.\n",
        "\n",
        "    - Example:\n",
        "        - if condition1:\n",
        "         Executes if condition1 is True\n",
        "        - elif condition2:\n",
        "     Executes if condition1 is False but condition2 is True\n",
        "        - elif condition3:\n",
        "    Executes if condition1 and condition2 are False but condition3 is True\n",
        "        - else:\n",
        "     Executes if none of the conditions above are True\n"
      ],
      "metadata": {
        "id": "IWodn24Uvsg6"
      }
    },
    {
      "cell_type": "code",
      "source": [
        "# usin elif in grading sysytem:\n",
        "score = 85\n",
        "\n",
        "if score >= 90:\n",
        "    print(\"Grade: A\")\n",
        "elif score >= 80:\n",
        "    print(\"Grade: B\")  # ✅ Runs because 85 >= 80\n",
        "elif score >= 70:\n",
        "    print(\"Grade: C\")\n",
        "else:\n",
        "    print(\"Grade: F\")\n"
      ],
      "metadata": {
        "colab": {
          "base_uri": "https://localhost:8080/"
        },
        "id": "ICA00AXBwdFj",
        "outputId": "79c63864-93e8-4190-8454-660bcdaa97e0"
      },
      "execution_count": null,
      "outputs": [
        {
          "output_type": "stream",
          "name": "stdout",
          "text": [
            "Grade: B\n"
          ]
        }
      ]
    },
    {
      "cell_type": "markdown",
      "source": [
        "13. What is the Difference between for and while loop?\n",
        "    - **for Loop: Iterates Over a Sequence:**\n",
        "        - Used when the number of iterations is known beforehand.\n",
        "        - Iterates over sequences like lists, tuples, strings, or ranges.\n",
        "        - Automatically stops when the sequence is exhausted.\n",
        "\n",
        "    - **while Loop: Runs Until a Condition is False:**\n",
        "        - Used when the number of iterations is unknown.\n",
        "        - Runs as long as a specified condition remains True.\n",
        "        - Can lead to infinite loops if the condition is not properly managed."
      ],
      "metadata": {
        "id": "zUleOsN2wk07"
      }
    },
    {
      "cell_type": "code",
      "source": [
        "# uisng \"for\" loop\n",
        "for i in range(1, 6):  # Iterates from 1 to 5\n",
        "    print(i)\n",
        "\n",
        "# using \"while\" loop\n",
        "count = 1\n",
        "while count <= 5:  # Loop runs while count is ≤ 5\n",
        "    print(count)\n",
        "    count += 1  # Increment count to avoid infinite loop\n"
      ],
      "metadata": {
        "colab": {
          "base_uri": "https://localhost:8080/"
        },
        "id": "LPxd7CzpxWp_",
        "outputId": "16f20dc7-ef32-496f-95f9-2ca213961a51"
      },
      "execution_count": null,
      "outputs": [
        {
          "output_type": "stream",
          "name": "stdout",
          "text": [
            "1\n",
            "2\n",
            "3\n",
            "4\n",
            "5\n",
            "1\n",
            "2\n",
            "3\n",
            "4\n",
            "5\n"
          ]
        }
      ]
    },
    {
      "cell_type": "markdown",
      "source": [
        "14. Describe a scenario where a while loop is more suitable than a for loop.\n",
        "    - A dice is rolled continuously until a 6 appears."
      ],
      "metadata": {
        "id": "HflIXw39xnor"
      }
    },
    {
      "cell_type": "code",
      "source": [
        "import random\n",
        "\n",
        "roll = 0\n",
        "while roll != 6:\n",
        "    roll = random.randint(1, 6)\n",
        "    print(f\"Rolled: {roll}\")\n",
        "# The dice must keep rolling until a 6 is rolled.\n",
        "# We don’t know how many rolls it will take.\n"
      ],
      "metadata": {
        "colab": {
          "base_uri": "https://localhost:8080/"
        },
        "id": "ZmFmrzDayOw2",
        "outputId": "170b8467-18bf-46d6-bd63-13c277c223c4"
      },
      "execution_count": null,
      "outputs": [
        {
          "output_type": "stream",
          "name": "stdout",
          "text": [
            "Rolled: 1\n",
            "Rolled: 2\n",
            "Rolled: 6\n"
          ]
        }
      ]
    },
    {
      "cell_type": "markdown",
      "source": [
        "**Practical Questions**"
      ],
      "metadata": {
        "id": "-nQdL12vys7g"
      }
    },
    {
      "cell_type": "markdown",
      "source": [
        "1. Write a Pyhton Program to print \"Hello world!\""
      ],
      "metadata": {
        "id": "rrGA27zZzMOd"
      }
    },
    {
      "cell_type": "code",
      "source": [
        "a=\"Hello World!\"\n",
        "print(a)"
      ],
      "metadata": {
        "colab": {
          "base_uri": "https://localhost:8080/"
        },
        "id": "WQj64SvCzVfT",
        "outputId": "fdfe2e7c-2d5b-4cb9-9d45-3bb1ba88afe8"
      },
      "execution_count": null,
      "outputs": [
        {
          "output_type": "stream",
          "name": "stdout",
          "text": [
            "Hello World!\n"
          ]
        }
      ]
    },
    {
      "cell_type": "markdown",
      "source": [
        "2. Write a Python Program that displays your name and age."
      ],
      "metadata": {
        "id": "5PcYCZFszk1i"
      }
    },
    {
      "cell_type": "code",
      "source": [
        "name=input(\"Enter you name: \")\n",
        "age= input(\"Enter your age: \")\n",
        "print(\"Your Name is- \",name)\n",
        "print(\"Your Age is- \",age)"
      ],
      "metadata": {
        "colab": {
          "base_uri": "https://localhost:8080/"
        },
        "id": "wpO-bKI8zyAl",
        "outputId": "21a75bc9-8696-4b81-836d-f96fed289766"
      },
      "execution_count": null,
      "outputs": [
        {
          "output_type": "stream",
          "name": "stdout",
          "text": [
            "Enter you name: ravi\n",
            "Enter your age: 25\n",
            "Your Name is-  ravi\n",
            "Your Age is-  25\n"
          ]
        }
      ]
    },
    {
      "cell_type": "markdown",
      "source": [
        "3. Write a code to print all the pre defined keywords in python using the keyword library."
      ],
      "metadata": {
        "id": "M-CJswfN0f58"
      }
    },
    {
      "cell_type": "code",
      "source": [
        "import keyword\n",
        "\n",
        "print(keyword.kwlist)\n",
        "\n"
      ],
      "metadata": {
        "colab": {
          "base_uri": "https://localhost:8080/"
        },
        "id": "lhqE9Mzd0r_l",
        "outputId": "3d519221-84de-4796-926a-b34b7d96ff67"
      },
      "execution_count": null,
      "outputs": [
        {
          "output_type": "stream",
          "name": "stdout",
          "text": [
            "['False', 'None', 'True', 'and', 'as', 'assert', 'async', 'await', 'break', 'class', 'continue', 'def', 'del', 'elif', 'else', 'except', 'finally', 'for', 'from', 'global', 'if', 'import', 'in', 'is', 'lambda', 'nonlocal', 'not', 'or', 'pass', 'raise', 'return', 'try', 'while', 'with', 'yield']\n"
          ]
        }
      ]
    },
    {
      "cell_type": "markdown",
      "source": [
        "4. write a program that checksif a given word is a python keyword."
      ],
      "metadata": {
        "id": "5FDI6FMu1qba"
      }
    },
    {
      "cell_type": "code",
      "source": [
        "import keyword\n",
        "\n",
        "def is_keyword(word):\n",
        "\n",
        "  return word in keyword.kwlist\n",
        "  # Get input from the user\n",
        "word_to_check = input(\"Enter a word: \")\n",
        "\n",
        "# Check if it's a keyword\n",
        "if is_keyword(word_to_check):\n",
        "    print(f\"'{word_to_check}' is a Python keyword.\")\n",
        "else:\n",
        "    print(f\"'{word_to_check}' is not a Python keyword.\")\n",
        "\n"
      ],
      "metadata": {
        "colab": {
          "base_uri": "https://localhost:8080/"
        },
        "id": "6OACq7u211yU",
        "outputId": "62dea2cd-871e-48d1-a6cb-26564769abce"
      },
      "execution_count": null,
      "outputs": [
        {
          "output_type": "stream",
          "name": "stdout",
          "text": [
            "Enter a word: True\n",
            "'True' is a Python keyword.\n"
          ]
        }
      ]
    },
    {
      "cell_type": "markdown",
      "source": [
        "5. Create a list and tuple in pyhton, and demonstrate how attempting to change an element works differently for each."
      ],
      "metadata": {
        "id": "scsXtH4N288I"
      }
    },
    {
      "cell_type": "code",
      "source": [
        "# Create a list\n",
        "my_list = [10, 20, 30, 40, 50]\n",
        "\n",
        "# Create a tuple\n",
        "my_tuple = (10, 20, 30, 40, 50)\n",
        "\n",
        "# Demonstrate changing an element in a list (mutable)\n",
        "print(\"Original list:\", my_list)\n",
        "my_list[2] = 15  # Change the element at index 2\n",
        "print(\"List after change:\", my_list)  # The list is modified in place\n",
        "\n",
        "# Demonstrate attempting to change an element in a tuple (immutable)\n",
        "print(\"\\nOriginal tuple:\", my_tuple)\n",
        "\n",
        "try:\n",
        "    my_tuple[2] = 15  # Try to change the element at index 2 (will raise an error)\n",
        "except TypeError as e:\n",
        "    print(f\"Error: {e}\")  # Handle the error gracefully\n",
        "\n",
        "print(\"Tuple remains unchanged:\", my_tuple)  # The tuple is not modified"
      ],
      "metadata": {
        "colab": {
          "base_uri": "https://localhost:8080/"
        },
        "id": "7F_y9Vjj3U8o",
        "outputId": "31369d2e-c8ff-4253-aeb4-b7d2366eaf7e"
      },
      "execution_count": null,
      "outputs": [
        {
          "output_type": "stream",
          "name": "stdout",
          "text": [
            "Original list: [10, 20, 30, 40, 50]\n",
            "List after change: [10, 20, 15, 40, 50]\n",
            "\n",
            "Original tuple: (10, 20, 30, 40, 50)\n",
            "Error: 'tuple' object does not support item assignment\n",
            "Tuple remains unchanged: (10, 20, 30, 40, 50)\n"
          ]
        }
      ]
    },
    {
      "cell_type": "markdown",
      "source": [
        "6. Write a function to demonstrate the behaviour of mutable and immutable arguments."
      ],
      "metadata": {
        "id": "oilbKB0_38zm"
      }
    },
    {
      "cell_type": "code",
      "source": [
        "def modify_list(my_list):\n",
        "    \"\"\"Modifies a list argument (mutable).\"\"\"\n",
        "    my_list.append(4)  # Modifies the list in place\n",
        "    my_list = [5,6,7] #reassigning the my_list variable to another list.\n",
        "    print(\"Inside modify_list:\", my_list)\n",
        "\n",
        "\n",
        "def modify_string(my_string):\n",
        "    \"\"\"Attempts to modify a string argument (immutable).\"\"\"\n",
        "    # my_string += \" world\"  # This would create a new string\n",
        "    my_string = \"hello world\" #reassigning the my_string variable to another string.\n",
        "    print(\"Inside modify_string:\", my_string)\n",
        "\n",
        "\n",
        "# Example usage:\n",
        "\n",
        "original_list = [1, 2, 3]\n",
        "print(\"Original list before function call:\", original_list)\n",
        "modify_list(original_list)\n",
        "print(\"Original list after function call:\", original_list)  # List is modified!\n",
        "\n",
        "original_string = \"hello\"\n",
        "print(\"\\nOriginal string before function call:\", original_string)\n",
        "modify_string(original_string)\n",
        "print(\"Original string after function call:\", original_string)  # String is NOT modified!"
      ],
      "metadata": {
        "colab": {
          "base_uri": "https://localhost:8080/"
        },
        "id": "8HNNsVWm4KIj",
        "outputId": "1397c20f-1602-4380-9b34-38946867355c"
      },
      "execution_count": null,
      "outputs": [
        {
          "output_type": "stream",
          "name": "stdout",
          "text": [
            "Original list before function call: [1, 2, 3]\n",
            "Inside modify_list: [5, 6, 7]\n",
            "Original list after function call: [1, 2, 3, 4]\n",
            "\n",
            "Original string before function call: hello\n",
            "Inside modify_string: hello world\n",
            "Original string after function call: hello\n"
          ]
        }
      ]
    },
    {
      "cell_type": "markdown",
      "source": [
        "8. Write a program to demonstrate the use of logical operator."
      ],
      "metadata": {
        "id": "hFuTAj7u4euM"
      }
    },
    {
      "cell_type": "code",
      "source": [
        "\n",
        "# Scenario: You want to go to the park IF it's sunny AND it's a weekend.\n",
        "\n",
        "is_sunny = True  # Let's say it's sunny\n",
        "is_weekend = True # And it's a weekend\n",
        "\n",
        "can_go_to_park = is_sunny and is_weekend\n",
        "\n",
        "print(\"Can we go to the park?\", can_go_to_park)  # Output: True (because both are true)\n",
        "\n",
        "\n",
        "# Scenario 2: You want pizza IF you have money OR you have a coupon.\n",
        "\n",
        "has_money = False  # No money right now\n",
        "has_coupon = True  # But we have a coupon\n",
        "\n",
        "can_have_pizza = has_money or has_coupon\n",
        "\n",
        "print(\"Can we have pizza?\", can_have_pizza)  # Output: True (because we have a coupon)\n",
        "\n",
        "\n",
        "# Scenario 3: Checking if a light switch is OFF\n",
        "\n",
        "light_switch_is_on = False  # The light switch is off\n",
        "\n",
        "light_is_off = not light_switch_is_on\n",
        "\n",
        "print(\"Is the light off?\", light_is_off)  # Output: True (because the switch is not on)\n",
        "\n",
        "# Scenario 4: Combining conditions\n",
        "\n",
        "has_ticket = True\n",
        "is_vip = False\n",
        "\n",
        "can_enter_backstage = has_ticket and is_vip #Only VIPs with tickets can enter backstage\n",
        "print(\"Can enter backstage?\", can_enter_backstage) #Output: False\n",
        "\n",
        "can_enter_event = has_ticket or is_vip #Anyone with a ticket OR VIP access can enter\n",
        "print(\"Can enter event?\", can_enter_event) #Output: True"
      ],
      "metadata": {
        "colab": {
          "base_uri": "https://localhost:8080/"
        },
        "id": "6WDOwfwr5MgA",
        "outputId": "b8e52263-2736-4786-8558-7d6d19e05772"
      },
      "execution_count": null,
      "outputs": [
        {
          "output_type": "stream",
          "name": "stdout",
          "text": [
            "Can we go to the park? True\n",
            "Can we have pizza? True\n",
            "Is the light off? True\n",
            "Can enter backstage? False\n",
            "Can enter event? True\n"
          ]
        }
      ]
    },
    {
      "cell_type": "markdown",
      "source": [
        "9. Write a python program to convert user input from string to integer,float and boolean types."
      ],
      "metadata": {
        "id": "j6F4FwJf5XPH"
      }
    },
    {
      "cell_type": "code",
      "source": [
        "def convert_input():\n",
        "    user_input = input(\"Enter a value (number or 'True'/'False'): \")\n",
        "\n",
        "    try:\n",
        "        int_val = int(user_input)\n",
        "        print(\"Integer:\", int_val)\n",
        "    except ValueError:\n",
        "        try:\n",
        "            float_val = float(user_input)\n",
        "            print(\"Float:\", float_val)\n",
        "        except ValueError:\n",
        "            if user_input.lower() == \"true\":\n",
        "                print(\"Boolean: True\")\n",
        "            elif user_input.lower() == \"false\":\n",
        "                print(\"Boolean: False\")\n",
        "            else:\n",
        "                print(\"Invalid input\")\n",
        "\n",
        "convert_input()"
      ],
      "metadata": {
        "colab": {
          "base_uri": "https://localhost:8080/"
        },
        "id": "tcO1CmwM5oEt",
        "outputId": "42763026-08aa-4e02-9dcb-4bc9388e22cb"
      },
      "execution_count": null,
      "outputs": [
        {
          "output_type": "stream",
          "name": "stdout",
          "text": [
            "Enter a value (number or 'True'/'False'): 23\n",
            "Integer: 23\n"
          ]
        }
      ]
    },
    {
      "cell_type": "markdown",
      "source": [
        "10. Write a code to demonstrate type casting with list elements."
      ],
      "metadata": {
        "id": "e95NTuWC6HTt"
      }
    },
    {
      "cell_type": "code",
      "source": [
        "mixed_list = [\"10\", 20, \"3.14\", True, \"hello\"]\n",
        "\n",
        "converted_mixed_list = []\n",
        "for item in mixed_list:\n",
        "    if isinstance(item, str):  # Check if it's a string\n",
        "        try:\n",
        "          converted_mixed_list.append(int(item))\n",
        "        except ValueError:\n",
        "          try:\n",
        "            converted_mixed_list.append(float(item))\n",
        "          except ValueError:\n",
        "            converted_mixed_list.append(str(item))\n",
        "    elif isinstance(item, bool): #check if it's a boolean\n",
        "      converted_mixed_list.append(int(item))\n",
        "    else:\n",
        "        converted_mixed_list.append(item)  # Keep other types as they are\n",
        "\n",
        "print(\"\\nOriginal mixed list:\", mixed_list)\n",
        "print(\"Converted mixed list:\", converted_mixed_list)"
      ],
      "metadata": {
        "colab": {
          "base_uri": "https://localhost:8080/"
        },
        "id": "5SWh_ieLEGS_",
        "outputId": "10f93b60-510c-479d-bae5-1eecc1eed450"
      },
      "execution_count": null,
      "outputs": [
        {
          "output_type": "stream",
          "name": "stdout",
          "text": [
            "\n",
            "Original mixed list: ['10', 20, '3.14', True, 'hello']\n",
            "Converted mixed list: [10, 20, 3.14, 1, 'hello']\n"
          ]
        }
      ]
    },
    {
      "cell_type": "markdown",
      "source": [
        "11. write a program that checks if a number is positive, negative or zero."
      ],
      "metadata": {
        "id": "OJpLeswmEiZD"
      }
    },
    {
      "cell_type": "code",
      "source": [
        "n=int(input(\"Enter number: \"))\n",
        "if(n>0):\n",
        "    print(\"Positive Number\")\n",
        "if(n<0):\n",
        "    print(\"Negative Number\")\n",
        "if(n==0):\n",
        "    print(\"Zero Number\")"
      ],
      "metadata": {
        "colab": {
          "base_uri": "https://localhost:8080/"
        },
        "id": "ioDDx-5xGCmt",
        "outputId": "67fab166-535a-432d-ff01-d1de017f577e"
      },
      "execution_count": null,
      "outputs": [
        {
          "output_type": "stream",
          "name": "stdout",
          "text": [
            "Enter number: -22\n",
            "Negative Number\n"
          ]
        }
      ]
    },
    {
      "cell_type": "markdown",
      "source": [
        "12. Write a for loop to print number from 1 to 10."
      ],
      "metadata": {
        "id": "ca8uRFOpGHYh"
      }
    },
    {
      "cell_type": "code",
      "source": [
        "for i in range(1,11):\n",
        "    print(i)"
      ],
      "metadata": {
        "colab": {
          "base_uri": "https://localhost:8080/"
        },
        "id": "NoXMs4cgG_TN",
        "outputId": "cb0f592b-ddee-4de2-d448-b08ec5365516"
      },
      "execution_count": null,
      "outputs": [
        {
          "output_type": "stream",
          "name": "stdout",
          "text": [
            "1\n",
            "2\n",
            "3\n",
            "4\n",
            "5\n",
            "6\n",
            "7\n",
            "8\n",
            "9\n",
            "10\n"
          ]
        }
      ]
    },
    {
      "cell_type": "markdown",
      "source": [
        "13. Write a Python Program to find the sum of all even numbers between 1 and 50."
      ],
      "metadata": {
        "id": "MktlkYAcHCGu"
      }
    },
    {
      "cell_type": "code",
      "source": [
        "sum=0\n",
        "for n in range(2,51,2):\n",
        "    sum+=n\n",
        "print(\"sum of even number between 1 to 50 :\",sum)"
      ],
      "metadata": {
        "colab": {
          "base_uri": "https://localhost:8080/"
        },
        "id": "DftJfPN6JBZm",
        "outputId": "70d8111c-91df-4a97-a49c-2ad46f52296e"
      },
      "execution_count": null,
      "outputs": [
        {
          "output_type": "stream",
          "name": "stdout",
          "text": [
            "sum of even number between 1 to 50 : 650\n"
          ]
        }
      ]
    },
    {
      "cell_type": "markdown",
      "source": [
        "14. Write a program to reverse a string using a while loop."
      ],
      "metadata": {
        "id": "o0ANTWvMJDdI"
      }
    },
    {
      "cell_type": "code",
      "source": [
        "def reverse_string(s):\n",
        "    \"\"\"Reverses a string using a while loop.\"\"\"\n",
        "    reversed_str = \"\"\n",
        "    i = len(s) - 1  # Start from the last index\n",
        "    while i >= 0:\n",
        "        reversed_str += s[i]  # Add character at current index to the reversed string\n",
        "        i -= 1  # Move to the previous index\n",
        "    return reversed_str\n",
        "# Get input from the user\n",
        "original_string = input(\"Enter a string: \")\n",
        "\n",
        "# Reverse the string\n",
        "reversed_string = reverse_string(original_string)\n",
        "\n",
        "# Print the reversed string\n",
        "print(\"Reversed string:\", reversed_string)\n"
      ],
      "metadata": {
        "colab": {
          "base_uri": "https://localhost:8080/"
        },
        "id": "csGcGOsZJOux",
        "outputId": "fe0d3f04-9fdf-4475-b462-6d1bdd247ac8"
      },
      "execution_count": null,
      "outputs": [
        {
          "output_type": "stream",
          "name": "stdout",
          "text": [
            "Enter a string: PWSKILLS\n",
            "Reversed string: SLLIKSWP\n"
          ]
        }
      ]
    },
    {
      "cell_type": "markdown",
      "source": [
        "15. Write a python program to calculate the factorial of a number provided by the user using a while loop."
      ],
      "metadata": {
        "id": "oJIrGYitKtPF"
      }
    },
    {
      "cell_type": "code",
      "source": [
        "def factorial(n):\n",
        "    \"\"\"Calculates the factorial of a non-negative integer using a while loop.\n",
        "\n",
        "    Args:\n",
        "        n: The non-negative integer.\n",
        "\n",
        "    Returns:\n",
        "        The factorial of n, or 1 if n is 0.\n",
        "        Returns an error message if n is negative.\n",
        "    \"\"\"\n",
        "    if n < 0:\n",
        "        return \"Factorial is not defined for negative numbers.\"\n",
        "    elif n == 0:\n",
        "        return 1\n",
        "    else:\n",
        "        result = 1\n",
        "        while n > 0:\n",
        "            result *= n\n",
        "            n -= 1\n",
        "        return result\n",
        "\n",
        "# Get input from the user\n",
        "try:\n",
        "    num = int(input(\"Enter a non-negative integer: \"))\n",
        "    fact = factorial(num)\n",
        "    print(f\"The factorial of {num} is {fact}\")\n",
        "except ValueError:\n",
        "    print(\"Invalid input. Please enter a non-negative integer.\")"
      ],
      "metadata": {
        "colab": {
          "base_uri": "https://localhost:8080/"
        },
        "id": "VEIcahFeLXfo",
        "outputId": "af04c965-727b-4078-c4f8-0727c9c54f3f"
      },
      "execution_count": null,
      "outputs": [
        {
          "output_type": "stream",
          "name": "stdout",
          "text": [
            "Enter a non-negative integer: 4\n",
            "The factorial of 4 is 24\n"
          ]
        }
      ]
    }
  ]
}